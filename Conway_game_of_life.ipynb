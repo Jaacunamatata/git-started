{
  "cells": [
    {
      "cell_type": "markdown",
      "metadata": {
        "id": "view-in-github",
        "colab_type": "text"
      },
      "source": [
        "<a href=\"https://colab.research.google.com/github/Jaacunamatata/git-started/blob/jose/Conway_game_of_life.ipynb\" target=\"_parent\"><img src=\"https://colab.research.google.com/assets/colab-badge.svg\" alt=\"Open In Colab\"/></a>"
      ]
    },
    {
      "cell_type": "markdown",
      "metadata": {
        "id": "qXdLf5klLdmM"
      },
      "source": [
        "# Conway's Game of Life\n",
        "From Wikipedia: \"It is a zero-player game,[2][3] meaning that its evolution is determined by its initial state, requiring no further input. One interacts with the Game of Life by creating an initial configuration and observing how it evolves. It is Turing complete and can simulate a universal constructor or any other Turing machine.\""
      ]
    },
    {
      "cell_type": "markdown",
      "source": [
        "# The Rules\n",
        "\n",
        "Every cell interacts with its eight neighbours, which are the cells that are horizontally, vertically, or diagonally adjacent.\n",
        "\n",
        "**Underpopulation:**\n",
        "Any live cell with fewer than two live neighbours dies, as if by underpopulation.\n",
        "\n",
        "**Living:**\n",
        "Any live cell with two or three live neighbours lives on to the next generation.\n",
        "\n",
        "**Overpopulation:**\n",
        "Any live cell with more than three live neighbours dies, as if by overpopulation.\n",
        "\n",
        "**Reproduction:**\n",
        "Any dead cell with exactly three live neighbours becomes a live cell, as if by reproduction.\n",
        "\n",
        "\n"
      ],
      "metadata": {
        "id": "yH86QMsnOSpA"
      }
    },
    {
      "cell_type": "markdown",
      "metadata": {
        "id": "sytnOt0CLdmQ"
      },
      "source": [
        "Great examples: https://www.youtube.com/watch?v=C2vgICfQawE"
      ]
    },
    {
      "cell_type": "markdown",
      "metadata": {
        "id": "-RgaOkgBLdmR"
      },
      "source": [
        "## Introduction\n",
        "\n",
        "This is code is based on Yair's Mau implementation of the Game of Life:\n",
        "https://yairmau.com/tutorials/python/"
      ]
    },
    {
      "cell_type": "markdown",
      "metadata": {
        "id": "NUqB5oKVLdmR"
      },
      "source": [
        "## The code"
      ]
    },
    {
      "cell_type": "code",
      "execution_count": null,
      "metadata": {
        "collapsed": true,
        "id": "mZqzgr19LdmS"
      },
      "outputs": [],
      "source": [
        "import numpy as np\n",
        "from matplotlib import pyplot as plt\n",
        "import matplotlib.animation as manimation\n",
        "from IPython.display import HTML\n",
        "from base64 import b64encode\n",
        "\n",
        "\n",
        "def life(X, steps):\n",
        "    \"\"\"\n",
        "     Conway's Game of Life.\n",
        "     - X, matrix with the initial state of the game.\n",
        "     - steps, number of generations.\n",
        "    \"\"\"\n",
        "    def roll_it(x, y):\n",
        "        # rolls the matrix X in a given direction\n",
        "        # x=1, y=0 left;  x=-1, y=0 right;\n",
        "        return np.roll(np.roll(X, y, axis=0), x, axis=1)\n",
        "\n",
        "    for _ in range(steps):\n",
        "        # count the number of neighbours\n",
        "        # the universe is considered toroidal\n",
        "        Y = roll_it(1, 0) + roll_it(0, 1) + \\\n",
        "            roll_it(-1, 0) + roll_it(0, -1) + \\\n",
        "            roll_it(1, 1) + roll_it(-1, -1) + \\\n",
        "            roll_it(1, -1) + roll_it(-1, 1)\n",
        "        # game of life rules\n",
        "        X = np.logical_or(np.logical_and(X, Y == 2), Y == 3)\n",
        "        X = X.astype(int)\n",
        "        yield X\n"
      ]
    },
    {
      "cell_type": "code",
      "execution_count": null,
      "metadata": {
        "collapsed": true,
        "id": "hMcOciZhLdmT",
        "colab": {
          "base_uri": "https://localhost:8080/",
          "height": 471
        },
        "outputId": "46fc4690-f20f-413f-8fcb-b5e471b6ffbc"
      },
      "outputs": [
        {
          "output_type": "stream",
          "name": "stdout",
          "text": [
            "[[0. 0. 0. ... 0. 0. 0.]\n",
            " [0. 0. 0. ... 0. 0. 0.]\n",
            " [0. 0. 0. ... 0. 0. 0.]\n",
            " ...\n",
            " [0. 0. 0. ... 0. 0. 0.]\n",
            " [0. 0. 0. ... 0. 0. 0.]\n",
            " [0. 0. 0. ... 0. 0. 0.]]\n"
          ]
        },
        {
          "output_type": "display_data",
          "data": {
            "text/plain": [
              "<Figure size 640x480 with 1 Axes>"
            ],
            "image/png": "[encoded data removed]"
          },
          "metadata": {}
        }
      ],
      "source": [
        "dimensions = (90, 160)  # height, width\n",
        "X = np.zeros(dimensions)  # Y by X dead cells\n",
        "middle_y = int(dimensions[0] / 2)\n",
        "middle_x = int(dimensions[1] / 2)\n",
        "\n",
        "N_iterations = 600\n",
        "\n",
        "#the initial condition (states) will determine the evolution of the system\n",
        "\n",
        "##TODO: play with the initial conditions (X)\n",
        "\n",
        "# Example of initial condition: acorn\n",
        "# http://www.conwaylife.com/w/index.php?title=Acorn\n",
        "X[middle_y, middle_x:middle_x+2] = 1\n",
        "X[middle_y, middle_x+4:middle_x+7] = 1\n",
        "X[middle_y+1, middle_x+3] = 1\n",
        "X[middle_y+2, middle_x+1] = 1\n",
        "X[10,10]=1\n",
        "X[100:110,90:100]=1\n",
        "X[0:110,90]=1\n",
        "\n",
        "print(X)\n",
        "plt.imshow(X)\n",
        "plt.show()"
      ]
    },
    {
      "cell_type": "code",
      "execution_count": null,
      "metadata": {
        "id": "rf9cZo9LLdmU",
        "outputId": "aab3119a-95c5-42fb-d5fc-4e4835c31e41",
        "colab": {
          "base_uri": "https://localhost:8080/",
          "height": 35
        }
      },
      "outputs": [
        {
          "output_type": "display_data",
          "data": {
            "text/plain": [
              "<Figure size 640x480 with 0 Axes>"
            ]
          },
          "metadata": {}
        }
      ],
      "source": [
        "FFMpegWriter = manimation.writers['ffmpeg']\n",
        "metadata = dict(title='Game of life', artist='Acorn initial condition')\n",
        "writer = FFMpegWriter(fps=10, metadata=metadata)\n",
        "\n",
        "fig = plt.figure()\n",
        "fig.patch.set_facecolor('black')\n",
        "with writer.saving(fig, \"game_of_life.mp4\", 300):  # last argument: dpi\n",
        "    plt.spy(X, origin='lower')\n",
        "    plt.axis('off')\n",
        "    writer.grab_frame()\n",
        "    plt.clf()\n",
        "    for i, x in enumerate(life(X, N_iterations)):\n",
        "        plt.title(\"iteration: {:03d}\".format(i + 1))\n",
        "        plt.spy(x, origin='lower')\n",
        "        plt.axis('off')\n",
        "        writer.grab_frame()\n",
        "        plt.clf()"
      ]
    },
    {
      "cell_type": "code",
      "source": [
        "#you should see the file game_of_life.mp4\n",
        "!ls"
      ],
      "metadata": {
        "id": "-PgYmCiqMVS5",
        "outputId": "ac3bce39-be19-46c6-945a-12c2abfae745",
        "colab": {
          "base_uri": "https://localhost:8080/"
        }
      },
      "execution_count": null,
      "outputs": [
        {
          "output_type": "stream",
          "name": "stdout",
          "text": [
            "game_of_life.mp4  sample_data\n"
          ]
        }
      ]
    },
    {
      "cell_type": "code",
      "source": [
        "def show_video(video_path, video_width = 600):\n",
        "\n",
        "  video_file = open(video_path, \"r+b\").read()\n",
        "\n",
        "  video_url = f\"data:video/mp4;base64,{b64encode(video_file).decode()}\"\n",
        "  return HTML(f\"\"\"<video width={video_width} controls><source src=\"{video_url}\"></video>\"\"\")\n",
        "\n",
        "show_video(\"game_of_life.mp4\")\n"
      ],
      "metadata": {
        "id": "7hQO9Mp4MMF9",
        "outputId": "facb32b8-7258-4afa-8bae-9e46a9e40971",
        "colab": {
          "base_uri": "https://localhost:8080/",
          "height": 471
        }
      },
      "execution_count": null,
      "outputs": [
        {
          "output_type": "execute_result",
          "data": {
            "text/plain": [
              "<IPython.core.display.HTML object>"
            ],
            "text/html": [
              "<video width=600 controls><source src=\"data:video/mp4;base64,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\"></video>"
            ]
          },
          "metadata": {},
          "execution_count": 8
        }
      ]
    }
  ],
  "metadata": {
    "kernelspec": {
      "display_name": "Python 3",
      "language": "python",
      "name": "python3"
    },
    "language_info": {
      "codemirror_mode": {
        "name": "ipython",
        "version": 3
      },
      "file_extension": ".py",
      "mimetype": "text/x-python",
      "name": "python",
      "nbconvert_exporter": "python",
      "pygments_lexer": "ipython3",
      "version": "3.7.4"
    },
    "colab": {
      "provenance": [],
      "include_colab_link": true
    }
  },
  "nbformat": 4,
  "nbformat_minor": 0
}