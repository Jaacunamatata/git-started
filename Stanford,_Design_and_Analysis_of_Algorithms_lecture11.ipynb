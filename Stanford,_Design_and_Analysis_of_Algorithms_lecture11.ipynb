{
  "cells": [
    {
      "cell_type": "markdown",
      "metadata": {
        "id": "view-in-github",
        "colab_type": "text"
      },
      "source": [
        "<a href=\"https://colab.research.google.com/github/Jaacunamatata/git-started/blob/main/Stanford%2C_Design_and_Analysis_of_Algorithms_lecture11.ipynb\" target=\"_parent\"><img src=\"https://colab.research.google.com/assets/colab-badge.svg\" alt=\"Open In Colab\"/></a>"
      ]
    },
    {
      "cell_type": "markdown",
      "metadata": {
        "id": "qD0WGpTxOy6S"
      },
      "source": [
        "**Attribution:** These notebooks were originally developed by Mary Wootters and have possibly been modified by Nima Anari and Moses Charikar. Please direct any concerns to Nima and Moses.\n"
      ]
    },
    {
      "cell_type": "code",
      "metadata": {
        "id": "hStlev7BOy6X",
        "outputId": "b4701365-9b78-42e8-fa78-e91c845f57f4",
        "colab": {
          "base_uri": "https://localhost:8080/"
        }
      },
      "source": [
        "# This part downloads needed auxiliary files to Google Colab\n",
        "! curl https://stanford-cs161.github.io/winter2021-extra/lecture11_dijkstra-aux.zip > lecture11_dijkstra-aux.zip && unzip -o lecture11_dijkstra-aux.zip\n"
      ],
      "execution_count": null,
      "outputs": [
        {
          "output_type": "stream",
          "name": "stdout",
          "text": [
            "  % Total    % Received % Xferd  Average Speed   Time    Time     Time  Current\n",
            "                                 Dload  Upload   Total   Spent    Left  Speed\n",
            "\r  0     0    0     0    0     0      0      0 --:--:-- --:--:-- --:--:--     0\r100   974  100   974    0     0   6086      0 --:--:-- --:--:-- --:--:--  6125\n",
            "Archive:  lecture11_dijkstra-aux.zip\n",
            "  inflating: graphStuff.py           \n"
          ]
        }
      ]
    },
    {
      "cell_type": "code",
      "source": [
        "!pip install heapdict"
      ],
      "metadata": {
        "colab": {
          "base_uri": "https://localhost:8080/"
        },
        "id": "nJj75OiJvwKR",
        "outputId": "67d57bbc-e351-4f15-cc4c-97b76281c798"
      },
      "execution_count": null,
      "outputs": [
        {
          "output_type": "stream",
          "name": "stdout",
          "text": [
            "Collecting heapdict\n",
            "  Downloading HeapDict-1.0.1-py3-none-any.whl (3.9 kB)\n",
            "Installing collected packages: heapdict\n",
            "Successfully installed heapdict-1.0.1\n"
          ]
        }
      ]
    },
    {
      "cell_type": "code",
      "execution_count": null,
      "metadata": {
        "collapsed": true,
        "id": "MP3Jnsn9Oy6Y"
      },
      "outputs": [],
      "source": [
        "from graphStuff import *\n",
        "from random import random\n",
        "from random import choice\n",
        "import heapdict as heapdict # you will need to install heapdict to use this\n",
        "import time\n",
        "\n",
        "%matplotlib inline\n",
        "import matplotlib\n",
        "import numpy as np\n",
        "import matplotlib.pyplot as plt"
      ]
    },
    {
      "cell_type": "markdown",
      "metadata": {
        "id": "awGctSS4Oy6Z"
      },
      "source": [
        "### Test graph:\n",
        "\n",
        "Here's the graph that is the running example on the slides"
      ]
    },
    {
      "cell_type": "code",
      "execution_count": null,
      "metadata": {
        "collapsed": true,
        "id": "cLp69i4TOy6Z"
      },
      "outputs": [],
      "source": [
        "# make a random graph\n",
        "# This is G(n,p), where we have n vertices and each (directed) edge is present with probability p.\n",
        "# if you pass in a set of weights, then the weights are chosen uniformly from that set.\n",
        "# otherwise all weights are 1\n",
        "def randomGraph(n,p,wts=[1]):\n",
        "    G = CS161Graph()\n",
        "    V = [ CS161Vertex(x) for x in range(n) ]\n",
        "    for v in V:\n",
        "        G.addVertex(v)\n",
        "    for v in V:\n",
        "        for w in V:\n",
        "            if v != w:\n",
        "                if random() < p:\n",
        "                    G.addDiEdge(v,w,wt=choice(wts))\n",
        "    return G"
      ]
    },
    {
      "cell_type": "markdown",
      "metadata": {
        "id": "TcfF2g4pOy6a"
      },
      "source": [
        "## BFS for shortest paths\n",
        "\n",
        "(This is the code we had last time; I've modified it slightly to recover the actual paths)"
      ]
    },
    {
      "cell_type": "code",
      "execution_count": null,
      "metadata": {
        "collapsed": true,
        "id": "7cmcT_AFOy6a"
      },
      "outputs": [],
      "source": [
        "def BFS(w, G):\n",
        "    for v in G.vertices:\n",
        "        v.status = \"unvisited\"\n",
        "    n = len(G.vertices)\n",
        "    Ls = [ [] for i in range(n) ]\n",
        "    Ls[0] = [w]\n",
        "    w.status = \"visited\"\n",
        "    for i in range(n):\n",
        "        for u in Ls[i]:\n",
        "            for v in u.getOutNeighbors():\n",
        "                if v.status == \"unvisited\":\n",
        "                    v.status = \"visited\"\n",
        "                    v.parent = u # this is new from Lecture 9: it's a bit of extra bookkeeping to find the shortest paths later\n",
        "                    Ls[i+1].append(v)\n",
        "    return Ls"
      ]
    },
    {
      "cell_type": "code",
      "execution_count": null,
      "metadata": {
        "collapsed": true,
        "id": "EG7lQm1vOy6b"
      },
      "outputs": [],
      "source": [
        "# Here's how we'd actually print out shortest paths.\n",
        "def BFS_shortestPaths(w,G):\n",
        "    Ls = BFS(w,G)\n",
        "    # okay, now what are all the shortest paths?\n",
        "    for i in range(len(Ls)):\n",
        "        print(\"distance\", i)\n",
        "        for w in Ls[i]:\n",
        "            path = []\n",
        "            current = w\n",
        "            for j in range(i):\n",
        "                path.append(current)\n",
        "                current = current.parent\n",
        "            path.append(current)\n",
        "            path.reverse()\n",
        "            print([ str(v) for v in path ])\n"
      ]
    },
    {
      "cell_type": "code",
      "execution_count": null,
      "metadata": {
        "id": "WX5abic9Oy6c",
        "outputId": "d6b9a91d-37f3-4e78-fe79-378a8314629c",
        "colab": {
          "base_uri": "https://localhost:8080/"
        }
      },
      "outputs": [
        {
          "output_type": "stream",
          "name": "stdout",
          "text": [
            "CS161Graph with:\n",
            "\t Vertices:\n",
            "\t0,1,2,3,4,\n",
            "\t Edges:\n",
            "\t(0,2; wt:1) (3,0; wt:1) (3,4; wt:1) \n",
            "\n",
            "distance 0\n",
            "['0']\n",
            "distance 1\n",
            "['0', '2']\n",
            "distance 2\n",
            "distance 3\n",
            "distance 4\n"
          ]
        }
      ],
      "source": [
        "# test on a random graph\n",
        "G = randomGraph(5,.2)\n",
        "print(G)\n",
        "BFS_shortestPaths(G.vertices[0],G)"
      ]
    },
    {
      "cell_type": "code",
      "source": [
        "Ls = BFS(G.vertices[0],G)\n",
        "print(Ls)\n",
        "print(Ls[0].index)"
      ],
      "metadata": {
        "colab": {
          "base_uri": "https://localhost:8080/"
        },
        "id": "XlU7cpp0xZRD",
        "outputId": "8796e442-2276-45d5-f313-13c301e9ca36"
      },
      "execution_count": null,
      "outputs": [
        {
          "output_type": "stream",
          "name": "stdout",
          "text": [
            "[[<graphStuff.CS161Vertex object at 0x7996320ab820>], [<graphStuff.CS161Vertex object at 0x7996320a9390>], [], [], []]\n",
            "<built-in method index of list object at 0x7996320f9600>\n"
          ]
        }
      ]
    }
  ],
  "metadata": {
    "kernelspec": {
      "display_name": "Python 3",
      "language": "python",
      "name": "python3"
    },
    "language_info": {
      "codemirror_mode": {
        "name": "ipython",
        "version": 3
      },
      "file_extension": ".py",
      "mimetype": "text/x-python",
      "name": "python",
      "nbconvert_exporter": "python",
      "pygments_lexer": "ipython3",
      "version": "3.6.1"
    },
    "colab": {
      "provenance": [],
      "include_colab_link": true
    }
  },
  "nbformat": 4,
  "nbformat_minor": 0
}